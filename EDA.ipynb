{
 "cells": [
  {
   "cell_type": "code",
   "execution_count": 2,
   "metadata": {
    "collapsed": true,
    "id": "DuXiwRBZCMJS"
   },
   "outputs": [
    {
     "name": "stdout",
     "output_type": "stream",
     "text": [
      "Collecting pandas-profiling\n",
      "  Using cached pandas_profiling-3.1.0-py2.py3-none-any.whl (261 kB)\n",
      "Requirement already satisfied: jinja2>=2.11.1 in c:\\users\\shilp\\anaconda3\\envs\\symbihello\\lib\\site-packages (from pandas-profiling) (3.0.2)\n",
      "Requirement already satisfied: markupsafe~=2.0.1 in c:\\users\\shilp\\anaconda3\\envs\\symbihello\\lib\\site-packages (from pandas-profiling) (2.0.1)\n",
      "Collecting multimethod>=1.4\n",
      "  Using cached multimethod-1.7-py3-none-any.whl (9.5 kB)\n",
      "Collecting pydantic>=1.8.1\n",
      "  Downloading pydantic-1.9.0-cp39-cp39-win_amd64.whl (2.1 MB)\n",
      "Requirement already satisfied: requests>=2.24.0 in c:\\users\\shilp\\anaconda3\\envs\\symbihello\\lib\\site-packages (from pandas-profiling) (2.26.0)\n",
      "Collecting tqdm>=4.48.2\n",
      "  Downloading tqdm-4.62.3-py2.py3-none-any.whl (76 kB)\n",
      "Collecting htmlmin>=0.1.12\n",
      "  Using cached htmlmin-0.1.12.tar.gz (19 kB)\n",
      "Collecting visions[type_image_path]==0.7.4\n",
      "  Using cached visions-0.7.4-py3-none-any.whl (102 kB)\n",
      "Requirement already satisfied: seaborn>=0.10.1 in c:\\users\\shilp\\anaconda3\\envs\\symbihello\\lib\\site-packages (from pandas-profiling) (0.11.2)\n",
      "Requirement already satisfied: pandas!=1.0.0,!=1.0.1,!=1.0.2,!=1.1.0,>=0.25.3 in c:\\users\\shilp\\anaconda3\\envs\\symbihello\\lib\\site-packages (from pandas-profiling) (1.3.4)\n",
      "Requirement already satisfied: matplotlib>=3.2.0 in c:\\users\\shilp\\anaconda3\\envs\\symbihello\\lib\\site-packages (from pandas-profiling) (3.5.0)\n",
      "Requirement already satisfied: numpy>=1.16.0 in c:\\users\\shilp\\anaconda3\\envs\\symbihello\\lib\\site-packages (from pandas-profiling) (1.21.2)\n",
      "Collecting joblib~=1.0.1\n",
      "  Downloading joblib-1.0.1-py3-none-any.whl (303 kB)\n",
      "Collecting missingno>=0.4.2\n",
      "  Using cached missingno-0.5.0-py3-none-any.whl (8.8 kB)\n",
      "Collecting PyYAML>=5.0.0\n",
      "  Downloading PyYAML-6.0-cp39-cp39-win_amd64.whl (151 kB)\n",
      "Collecting tangled-up-in-unicode==0.1.0\n",
      "  Using cached tangled_up_in_unicode-0.1.0-py3-none-any.whl (3.1 MB)\n",
      "Collecting phik>=0.11.1\n",
      "  Downloading phik-0.12.0-cp39-cp39-win_amd64.whl (659 kB)\n",
      "Requirement already satisfied: scipy>=1.4.1 in c:\\users\\shilp\\anaconda3\\envs\\symbihello\\lib\\site-packages (from pandas-profiling) (1.7.1)\n",
      "Collecting networkx>=2.4\n",
      "  Downloading networkx-2.6.3-py3-none-any.whl (1.9 MB)\n",
      "Requirement already satisfied: attrs>=19.3.0 in c:\\users\\shilp\\anaconda3\\envs\\symbihello\\lib\\site-packages (from visions[type_image_path]==0.7.4->pandas-profiling) (21.2.0)\n",
      "Collecting imagehash\n",
      "  Using cached ImageHash-4.2.1.tar.gz (812 kB)\n",
      "Requirement already satisfied: Pillow in c:\\users\\shilp\\anaconda3\\envs\\symbihello\\lib\\site-packages (from visions[type_image_path]==0.7.4->pandas-profiling) (8.4.0)\n",
      "Requirement already satisfied: python-dateutil>=2.7 in c:\\users\\shilp\\anaconda3\\envs\\symbihello\\lib\\site-packages (from matplotlib>=3.2.0->pandas-profiling) (2.8.2)\n",
      "Requirement already satisfied: cycler>=0.10 in c:\\users\\shilp\\anaconda3\\envs\\symbihello\\lib\\site-packages (from matplotlib>=3.2.0->pandas-profiling) (0.11.0)\n",
      "Requirement already satisfied: kiwisolver>=1.0.1 in c:\\users\\shilp\\anaconda3\\envs\\symbihello\\lib\\site-packages (from matplotlib>=3.2.0->pandas-profiling) (1.3.2)\n",
      "Requirement already satisfied: pyparsing>=2.2.1 in c:\\users\\shilp\\anaconda3\\envs\\symbihello\\lib\\site-packages (from matplotlib>=3.2.0->pandas-profiling) (3.0.4)\n",
      "Requirement already satisfied: packaging>=20.0 in c:\\users\\shilp\\anaconda3\\envs\\symbihello\\lib\\site-packages (from matplotlib>=3.2.0->pandas-profiling) (21.3)\n",
      "Requirement already satisfied: fonttools>=4.22.0 in c:\\users\\shilp\\anaconda3\\envs\\symbihello\\lib\\site-packages (from matplotlib>=3.2.0->pandas-profiling) (4.28.3)\n",
      "Requirement already satisfied: pytz>=2017.3 in c:\\users\\shilp\\anaconda3\\envs\\symbihello\\lib\\site-packages (from pandas!=1.0.0,!=1.0.1,!=1.0.2,!=1.1.0,>=0.25.3->pandas-profiling) (2021.3)\n",
      "Collecting typing-extensions>=3.7.4.3\n",
      "  Downloading typing_extensions-4.1.1-py3-none-any.whl (26 kB)\n",
      "Requirement already satisfied: six>=1.5 in c:\\users\\shilp\\anaconda3\\envs\\symbihello\\lib\\site-packages (from python-dateutil>=2.7->matplotlib>=3.2.0->pandas-profiling) (1.16.0)\n",
      "Requirement already satisfied: urllib3<1.27,>=1.21.1 in c:\\users\\shilp\\anaconda3\\envs\\symbihello\\lib\\site-packages (from requests>=2.24.0->pandas-profiling) (1.26.7)\n",
      "Requirement already satisfied: idna<4,>=2.5 in c:\\users\\shilp\\anaconda3\\envs\\symbihello\\lib\\site-packages (from requests>=2.24.0->pandas-profiling) (3.3)\n",
      "Requirement already satisfied: charset-normalizer~=2.0.0 in c:\\users\\shilp\\anaconda3\\envs\\symbihello\\lib\\site-packages (from requests>=2.24.0->pandas-profiling) (2.0.4)\n",
      "Requirement already satisfied: certifi>=2017.4.17 in c:\\users\\shilp\\anaconda3\\envs\\symbihello\\lib\\site-packages (from requests>=2.24.0->pandas-profiling) (2021.10.8)\n",
      "Requirement already satisfied: colorama in c:\\users\\shilp\\anaconda3\\envs\\symbihello\\lib\\site-packages (from tqdm>=4.48.2->pandas-profiling) (0.4.4)\n",
      "Collecting PyWavelets\n",
      "  Downloading PyWavelets-1.2.0-cp39-cp39-win_amd64.whl (4.2 MB)\n",
      "Building wheels for collected packages: htmlmin, imagehash\n",
      "  Building wheel for htmlmin (setup.py): started\n",
      "  Building wheel for htmlmin (setup.py): finished with status 'done'\n",
      "  Created wheel for htmlmin: filename=htmlmin-0.1.12-py3-none-any.whl size=27098 sha256=e2051f22545c173b216d12c656731a3e5d9e349315f8961c77fab2953d60d950\n",
      "  Stored in directory: c:\\users\\shilp\\appdata\\local\\pip\\cache\\wheels\\1d\\05\\04\\c6d7d3b66539d9e659ac6dfe81e2d0fd4c1a8316cc5a403300\n",
      "  Building wheel for imagehash (setup.py): started\n",
      "  Building wheel for imagehash (setup.py): finished with status 'done'\n",
      "  Created wheel for imagehash: filename=ImageHash-4.2.1-py2.py3-none-any.whl size=295207 sha256=73fa9f4de788b4032fc8d796417bd9422ade73937a3de7f2aa4c6833b05083b4\n",
      "  Stored in directory: c:\\users\\shilp\\appdata\\local\\pip\\cache\\wheels\\51\\f9\\a5\\740af2fdb0ad1edf79aabdc41531be0b6f0b2e2be684c388cf\n",
      "Successfully built htmlmin imagehash\n",
      "Installing collected packages: tangled-up-in-unicode, PyWavelets, networkx, multimethod, visions, typing-extensions, joblib, imagehash, tqdm, PyYAML, pydantic, phik, missingno, htmlmin, pandas-profiling\n",
      "  Attempting uninstall: joblib\n",
      "    Found existing installation: joblib 1.1.0\n",
      "    Uninstalling joblib-1.1.0:\n",
      "      Successfully uninstalled joblib-1.1.0\n",
      "Successfully installed PyWavelets-1.2.0 PyYAML-6.0 htmlmin-0.1.12 imagehash-4.2.1 joblib-1.0.1 missingno-0.5.0 multimethod-1.7 networkx-2.6.3 pandas-profiling-3.1.0 phik-0.12.0 pydantic-1.9.0 tangled-up-in-unicode-0.1.0 tqdm-4.62.3 typing-extensions-4.1.1 visions-0.7.4\n",
      "Collecting https://github.com/pandas-profiling/pandas-profiling/archive/master.zip\n",
      "  Using cached https://github.com/pandas-profiling/pandas-profiling/archive/master.zip\n",
      "Collecting joblib~=1.1.0\n",
      "  Using cached joblib-1.1.0-py2.py3-none-any.whl (306 kB)\n",
      "Requirement already satisfied: scipy>=1.4.1 in c:\\users\\shilp\\anaconda3\\envs\\symbihello\\lib\\site-packages (from pandas-profiling==3.1.1) (1.7.1)\n",
      "Requirement already satisfied: pandas!=1.0.0,!=1.0.1,!=1.0.2,!=1.1.0,>=0.25.3 in c:\\users\\shilp\\anaconda3\\envs\\symbihello\\lib\\site-packages (from pandas-profiling==3.1.1) (1.3.4)\n",
      "Requirement already satisfied: matplotlib>=3.2.0 in c:\\users\\shilp\\anaconda3\\envs\\symbihello\\lib\\site-packages (from pandas-profiling==3.1.1) (3.5.0)\n",
      "Requirement already satisfied: pydantic>=1.8.1 in c:\\users\\shilp\\anaconda3\\envs\\symbihello\\lib\\site-packages (from pandas-profiling==3.1.1) (1.9.0)\n",
      "Requirement already satisfied: PyYAML>=5.0.0 in c:\\users\\shilp\\anaconda3\\envs\\symbihello\\lib\\site-packages (from pandas-profiling==3.1.1) (6.0)\n",
      "Requirement already satisfied: jinja2>=2.11.1 in c:\\users\\shilp\\anaconda3\\envs\\symbihello\\lib\\site-packages (from pandas-profiling==3.1.1) (3.0.2)\n",
      "Requirement already satisfied: markupsafe~=2.0.1 in c:\\users\\shilp\\anaconda3\\envs\\symbihello\\lib\\site-packages (from pandas-profiling==3.1.1) (2.0.1)\n",
      "Requirement already satisfied: visions[type_image_path]==0.7.4 in c:\\users\\shilp\\anaconda3\\envs\\symbihello\\lib\\site-packages (from pandas-profiling==3.1.1) (0.7.4)\n",
      "Requirement already satisfied: numpy>=1.16.0 in c:\\users\\shilp\\anaconda3\\envs\\symbihello\\lib\\site-packages (from pandas-profiling==3.1.1) (1.21.2)\n",
      "Requirement already satisfied: htmlmin>=0.1.12 in c:\\users\\shilp\\anaconda3\\envs\\symbihello\\lib\\site-packages (from pandas-profiling==3.1.1) (0.1.12)\n",
      "Requirement already satisfied: missingno>=0.4.2 in c:\\users\\shilp\\anaconda3\\envs\\symbihello\\lib\\site-packages (from pandas-profiling==3.1.1) (0.5.0)\n",
      "Requirement already satisfied: phik>=0.11.1 in c:\\users\\shilp\\anaconda3\\envs\\symbihello\\lib\\site-packages (from pandas-profiling==3.1.1) (0.12.0)\n",
      "Collecting tangled-up-in-unicode==0.2.0\n",
      "  Using cached tangled_up_in_unicode-0.2.0-py3-none-any.whl (4.7 MB)\n",
      "Requirement already satisfied: requests>=2.24.0 in c:\\users\\shilp\\anaconda3\\envs\\symbihello\\lib\\site-packages (from pandas-profiling==3.1.1) (2.26.0)\n",
      "Requirement already satisfied: tqdm>=4.48.2 in c:\\users\\shilp\\anaconda3\\envs\\symbihello\\lib\\site-packages (from pandas-profiling==3.1.1) (4.62.3)\n",
      "Requirement already satisfied: seaborn>=0.10.1 in c:\\users\\shilp\\anaconda3\\envs\\symbihello\\lib\\site-packages (from pandas-profiling==3.1.1) (0.11.2)\n",
      "Requirement already satisfied: multimethod>=1.4 in c:\\users\\shilp\\anaconda3\\envs\\symbihello\\lib\\site-packages (from pandas-profiling==3.1.1) (1.7)\n",
      "Requirement already satisfied: networkx>=2.4 in c:\\users\\shilp\\anaconda3\\envs\\symbihello\\lib\\site-packages (from visions[type_image_path]==0.7.4->pandas-profiling==3.1.1) (2.6.3)\n",
      "Requirement already satisfied: attrs>=19.3.0 in c:\\users\\shilp\\anaconda3\\envs\\symbihello\\lib\\site-packages (from visions[type_image_path]==0.7.4->pandas-profiling==3.1.1) (21.2.0)\n",
      "Requirement already satisfied: imagehash in c:\\users\\shilp\\anaconda3\\envs\\symbihello\\lib\\site-packages (from visions[type_image_path]==0.7.4->pandas-profiling==3.1.1) (4.2.1)\n",
      "Requirement already satisfied: Pillow in c:\\users\\shilp\\anaconda3\\envs\\symbihello\\lib\\site-packages (from visions[type_image_path]==0.7.4->pandas-profiling==3.1.1) (8.4.0)\n",
      "Requirement already satisfied: packaging>=20.0 in c:\\users\\shilp\\anaconda3\\envs\\symbihello\\lib\\site-packages (from matplotlib>=3.2.0->pandas-profiling==3.1.1) (21.3)\n",
      "Requirement already satisfied: fonttools>=4.22.0 in c:\\users\\shilp\\anaconda3\\envs\\symbihello\\lib\\site-packages (from matplotlib>=3.2.0->pandas-profiling==3.1.1) (4.28.3)\n",
      "Requirement already satisfied: cycler>=0.10 in c:\\users\\shilp\\anaconda3\\envs\\symbihello\\lib\\site-packages (from matplotlib>=3.2.0->pandas-profiling==3.1.1) (0.11.0)\n",
      "Requirement already satisfied: pyparsing>=2.2.1 in c:\\users\\shilp\\anaconda3\\envs\\symbihello\\lib\\site-packages (from matplotlib>=3.2.0->pandas-profiling==3.1.1) (3.0.4)\n",
      "Requirement already satisfied: kiwisolver>=1.0.1 in c:\\users\\shilp\\anaconda3\\envs\\symbihello\\lib\\site-packages (from matplotlib>=3.2.0->pandas-profiling==3.1.1) (1.3.2)\n",
      "Requirement already satisfied: python-dateutil>=2.7 in c:\\users\\shilp\\anaconda3\\envs\\symbihello\\lib\\site-packages (from matplotlib>=3.2.0->pandas-profiling==3.1.1) (2.8.2)\n",
      "Requirement already satisfied: pytz>=2017.3 in c:\\users\\shilp\\anaconda3\\envs\\symbihello\\lib\\site-packages (from pandas!=1.0.0,!=1.0.1,!=1.0.2,!=1.1.0,>=0.25.3->pandas-profiling==3.1.1) (2021.3)\n",
      "Requirement already satisfied: typing-extensions>=3.7.4.3 in c:\\users\\shilp\\anaconda3\\envs\\symbihello\\lib\\site-packages (from pydantic>=1.8.1->pandas-profiling==3.1.1) (4.1.1)\n",
      "Requirement already satisfied: six>=1.5 in c:\\users\\shilp\\anaconda3\\envs\\symbihello\\lib\\site-packages (from python-dateutil>=2.7->matplotlib>=3.2.0->pandas-profiling==3.1.1) (1.16.0)\n",
      "Requirement already satisfied: certifi>=2017.4.17 in c:\\users\\shilp\\anaconda3\\envs\\symbihello\\lib\\site-packages (from requests>=2.24.0->pandas-profiling==3.1.1) (2021.10.8)\n",
      "Requirement already satisfied: idna<4,>=2.5 in c:\\users\\shilp\\anaconda3\\envs\\symbihello\\lib\\site-packages (from requests>=2.24.0->pandas-profiling==3.1.1) (3.3)\n",
      "Requirement already satisfied: urllib3<1.27,>=1.21.1 in c:\\users\\shilp\\anaconda3\\envs\\symbihello\\lib\\site-packages (from requests>=2.24.0->pandas-profiling==3.1.1) (1.26.7)\n",
      "Requirement already satisfied: charset-normalizer~=2.0.0 in c:\\users\\shilp\\anaconda3\\envs\\symbihello\\lib\\site-packages (from requests>=2.24.0->pandas-profiling==3.1.1) (2.0.4)\n",
      "Requirement already satisfied: colorama in c:\\users\\shilp\\anaconda3\\envs\\symbihello\\lib\\site-packages (from tqdm>=4.48.2->pandas-profiling==3.1.1) (0.4.4)\n",
      "Requirement already satisfied: PyWavelets in c:\\users\\shilp\\anaconda3\\envs\\symbihello\\lib\\site-packages (from imagehash->visions[type_image_path]==0.7.4->pandas-profiling==3.1.1) (1.2.0)\n",
      "Building wheels for collected packages: pandas-profiling\n",
      "  Building wheel for pandas-profiling (setup.py): started\n",
      "  Building wheel for pandas-profiling (setup.py): finished with status 'done'\n",
      "  Created wheel for pandas-profiling: filename=pandas_profiling-3.1.1-py2.py3-none-any.whl size=261291 sha256=d50b36a03f99d1da86eb6d97a3a357f43dfb72c9c090aa828a3b0dcfd43dfae9\n",
      "  Stored in directory: C:\\Users\\shilp\\AppData\\Local\\Temp\\pip-ephem-wheel-cache-6xd5ykay\\wheels\\43\\c8\\f4\\c0ebc32d7f20fe89d0e92d90eaeef5f0c0594a89b6bc16b352\n",
      "Successfully built pandas-profiling\n",
      "Installing collected packages: tangled-up-in-unicode, joblib, pandas-profiling\n",
      "  Attempting uninstall: tangled-up-in-unicode\n",
      "    Found existing installation: tangled-up-in-unicode 0.1.0\n",
      "    Uninstalling tangled-up-in-unicode-0.1.0:\n",
      "      Successfully uninstalled tangled-up-in-unicode-0.1.0\n",
      "  Attempting uninstall: joblib\n",
      "    Found existing installation: joblib 1.0.1\n",
      "    Uninstalling joblib-1.0.1:\n",
      "      Successfully uninstalled joblib-1.0.1\n",
      "  Attempting uninstall: pandas-profiling\n",
      "    Found existing installation: pandas-profiling 3.1.0\n",
      "    Uninstalling pandas-profiling-3.1.0:\n",
      "      Successfully uninstalled pandas-profiling-3.1.0\n",
      "Successfully installed joblib-1.1.0 pandas-profiling-3.1.1 tangled-up-in-unicode-0.2.0\n"
     ]
    }
   ],
   "source": [
    " #!pip install -U pandas-profiling\n",
    " #!pip install https://github.com/pandas-profiling/pandas-profiling/archive/master.zip"
   ]
  },
  {
   "cell_type": "code",
   "execution_count": 126,
   "metadata": {
    "id": "_M-cQF3VV4C8"
   },
   "outputs": [],
   "source": [
    "import pandas as pd \n",
    "import seaborn as sns\n",
    "import matplotlib.pyplot as plt\n",
    "import numpy as np\n",
    "\n",
    "import warnings\n",
    "warnings.filterwarnings('ignore')\n",
    "%matplotlib inline\n"
   ]
  },
  {
   "cell_type": "markdown",
   "metadata": {},
   "source": [
    " ### Importing Cleaned dataset"
   ]
  },
  {
   "cell_type": "code",
   "execution_count": 127,
   "metadata": {
    "colab": {
     "base_uri": "https://localhost:8080/",
     "height": 354
    },
    "id": "PAcmLF5kRHJ0",
    "outputId": "5b897bc7-3b22-4b7d-ec3b-511ad9017b0d"
   },
   "outputs": [
    {
     "data": {
      "text/html": [
       "<div>\n",
       "<style scoped>\n",
       "    .dataframe tbody tr th:only-of-type {\n",
       "        vertical-align: middle;\n",
       "    }\n",
       "\n",
       "    .dataframe tbody tr th {\n",
       "        vertical-align: top;\n",
       "    }\n",
       "\n",
       "    .dataframe thead th {\n",
       "        text-align: right;\n",
       "    }\n",
       "</style>\n",
       "<table border=\"1\" class=\"dataframe\">\n",
       "  <thead>\n",
       "    <tr style=\"text-align: right;\">\n",
       "      <th></th>\n",
       "      <th>sr_no</th>\n",
       "      <th>state_ut</th>\n",
       "      <th>district</th>\n",
       "      <th>year</th>\n",
       "      <th>rape</th>\n",
       "      <th>kidnapping_and_abduction</th>\n",
       "      <th>dowry_deaths</th>\n",
       "      <th>assault_on_women</th>\n",
       "      <th>insult_to_modesty</th>\n",
       "      <th>cruelty_by_husband_or_relatives</th>\n",
       "      <th>importation_of_girls</th>\n",
       "    </tr>\n",
       "  </thead>\n",
       "  <tbody>\n",
       "    <tr>\n",
       "      <th>0</th>\n",
       "      <td>0</td>\n",
       "      <td>ANDHRA PRADESH</td>\n",
       "      <td>ADILABAD</td>\n",
       "      <td>2001</td>\n",
       "      <td>50</td>\n",
       "      <td>30</td>\n",
       "      <td>16</td>\n",
       "      <td>149</td>\n",
       "      <td>34</td>\n",
       "      <td>175</td>\n",
       "      <td>0</td>\n",
       "    </tr>\n",
       "    <tr>\n",
       "      <th>1</th>\n",
       "      <td>1</td>\n",
       "      <td>ANDHRA PRADESH</td>\n",
       "      <td>ANANTAPUR</td>\n",
       "      <td>2001</td>\n",
       "      <td>23</td>\n",
       "      <td>30</td>\n",
       "      <td>7</td>\n",
       "      <td>118</td>\n",
       "      <td>24</td>\n",
       "      <td>154</td>\n",
       "      <td>0</td>\n",
       "    </tr>\n",
       "    <tr>\n",
       "      <th>2</th>\n",
       "      <td>2</td>\n",
       "      <td>ANDHRA PRADESH</td>\n",
       "      <td>CHITTOOR</td>\n",
       "      <td>2001</td>\n",
       "      <td>27</td>\n",
       "      <td>34</td>\n",
       "      <td>14</td>\n",
       "      <td>112</td>\n",
       "      <td>83</td>\n",
       "      <td>186</td>\n",
       "      <td>0</td>\n",
       "    </tr>\n",
       "    <tr>\n",
       "      <th>3</th>\n",
       "      <td>3</td>\n",
       "      <td>ANDHRA PRADESH</td>\n",
       "      <td>CUDDAPAH</td>\n",
       "      <td>2001</td>\n",
       "      <td>20</td>\n",
       "      <td>20</td>\n",
       "      <td>17</td>\n",
       "      <td>126</td>\n",
       "      <td>38</td>\n",
       "      <td>57</td>\n",
       "      <td>0</td>\n",
       "    </tr>\n",
       "    <tr>\n",
       "      <th>4</th>\n",
       "      <td>4</td>\n",
       "      <td>ANDHRA PRADESH</td>\n",
       "      <td>EAST GODAVARI</td>\n",
       "      <td>2001</td>\n",
       "      <td>23</td>\n",
       "      <td>26</td>\n",
       "      <td>12</td>\n",
       "      <td>109</td>\n",
       "      <td>58</td>\n",
       "      <td>247</td>\n",
       "      <td>0</td>\n",
       "    </tr>\n",
       "  </tbody>\n",
       "</table>\n",
       "</div>"
      ],
      "text/plain": [
       "   sr_no        state_ut       district  year  rape  kidnapping_and_abduction  \\\n",
       "0      0  ANDHRA PRADESH       ADILABAD  2001    50                        30   \n",
       "1      1  ANDHRA PRADESH      ANANTAPUR  2001    23                        30   \n",
       "2      2  ANDHRA PRADESH       CHITTOOR  2001    27                        34   \n",
       "3      3  ANDHRA PRADESH       CUDDAPAH  2001    20                        20   \n",
       "4      4  ANDHRA PRADESH  EAST GODAVARI  2001    23                        26   \n",
       "\n",
       "   dowry_deaths  assault_on_women  insult_to_modesty  \\\n",
       "0            16               149                 34   \n",
       "1             7               118                 24   \n",
       "2            14               112                 83   \n",
       "3            17               126                 38   \n",
       "4            12               109                 58   \n",
       "\n",
       "   cruelty_by_husband_or_relatives  importation_of_girls  \n",
       "0                              175                     0  \n",
       "1                              154                     0  \n",
       "2                              186                     0  \n",
       "3                               57                     0  \n",
       "4                              247                     0  "
      ]
     },
     "execution_count": 127,
     "metadata": {},
     "output_type": "execute_result"
    }
   ],
   "source": [
    "data = pd.read_csv('crimes_against_women_2001-2014_cleaned.csv')\n",
    "data.head()"
   ]
  },
  {
   "cell_type": "markdown",
   "metadata": {
    "id": "QF6P_i5JdTZ3"
   },
   "source": [
    "## Exploratory Data Analysis (EDA):\n",
    "\n",
    "### In this part of work, we are going to find patterns, relations,and anomalies in the dataset."
   ]
  },
  {
   "cell_type": "code",
   "execution_count": 128,
   "metadata": {
    "colab": {
     "base_uri": "https://localhost:8080/"
    },
    "id": "gfVIP73BdaWu",
    "outputId": "8699b1ac-8ad5-44df-b491-62db2c0f61da"
   },
   "outputs": [
    {
     "data": {
      "text/plain": [
       "(10186, 11)"
      ]
     },
     "execution_count": 128,
     "metadata": {},
     "output_type": "execute_result"
    }
   ],
   "source": [
    "data.shape"
   ]
  },
  {
   "cell_type": "code",
   "execution_count": 129,
   "metadata": {
    "colab": {
     "base_uri": "https://localhost:8080/"
    },
    "id": "CVEAMI8fmr0B",
    "outputId": "08897101-865c-4629-fe38-4668ebf36b14"
   },
   "outputs": [
    {
     "data": {
      "text/plain": [
       "Index(['sr_no', 'state_ut', 'district', 'year', 'rape',\n",
       "       'kidnapping_and_abduction', 'dowry_deaths', 'assault_on_women',\n",
       "       'insult_to_modesty', 'cruelty_by_husband_or_relatives',\n",
       "       'importation_of_girls'],\n",
       "      dtype='object')"
      ]
     },
     "execution_count": 129,
     "metadata": {},
     "output_type": "execute_result"
    }
   ],
   "source": [
    "data.keys()"
   ]
  },
  {
   "cell_type": "code",
   "execution_count": 130,
   "metadata": {
    "colab": {
     "base_uri": "https://localhost:8080/"
    },
    "id": "2nVpS9JEznhI",
    "outputId": "a313910f-1f04-4e75-accb-0b8e6e2a8756"
   },
   "outputs": [
    {
     "name": "stdout",
     "output_type": "stream",
     "text": [
      "<class 'pandas.core.frame.DataFrame'>\n",
      "RangeIndex: 10186 entries, 0 to 10185\n",
      "Data columns (total 11 columns):\n",
      " #   Column                           Non-Null Count  Dtype \n",
      "---  ------                           --------------  ----- \n",
      " 0   sr_no                            10186 non-null  int64 \n",
      " 1   state_ut                         10186 non-null  object\n",
      " 2   district                         10186 non-null  object\n",
      " 3   year                             10186 non-null  int64 \n",
      " 4   rape                             10186 non-null  int64 \n",
      " 5   kidnapping_and_abduction         10186 non-null  int64 \n",
      " 6   dowry_deaths                     10186 non-null  int64 \n",
      " 7   assault_on_women                 10186 non-null  int64 \n",
      " 8   insult_to_modesty                10186 non-null  int64 \n",
      " 9   cruelty_by_husband_or_relatives  10186 non-null  int64 \n",
      " 10  importation_of_girls             10186 non-null  int64 \n",
      "dtypes: int64(9), object(2)\n",
      "memory usage: 875.5+ KB\n"
     ]
    }
   ],
   "source": [
    "# check data type\n",
    "data.info()"
   ]
  },
  {
   "cell_type": "code",
   "execution_count": 131,
   "metadata": {
    "colab": {
     "base_uri": "https://localhost:8080/",
     "height": 331
    },
    "id": "yoYphfgXzVzO",
    "outputId": "8f48579f-74c4-4562-d939-b437ccf3a5ad"
   },
   "outputs": [
    {
     "data": {
      "text/html": [
       "<div>\n",
       "<style scoped>\n",
       "    .dataframe tbody tr th:only-of-type {\n",
       "        vertical-align: middle;\n",
       "    }\n",
       "\n",
       "    .dataframe tbody tr th {\n",
       "        vertical-align: top;\n",
       "    }\n",
       "\n",
       "    .dataframe thead th {\n",
       "        text-align: right;\n",
       "    }\n",
       "</style>\n",
       "<table border=\"1\" class=\"dataframe\">\n",
       "  <thead>\n",
       "    <tr style=\"text-align: right;\">\n",
       "      <th></th>\n",
       "      <th>count</th>\n",
       "      <th>mean</th>\n",
       "      <th>std</th>\n",
       "      <th>min</th>\n",
       "      <th>25%</th>\n",
       "      <th>50%</th>\n",
       "      <th>75%</th>\n",
       "      <th>max</th>\n",
       "    </tr>\n",
       "  </thead>\n",
       "  <tbody>\n",
       "    <tr>\n",
       "      <th>sr_no</th>\n",
       "      <td>10186.0</td>\n",
       "      <td>3870.217357</td>\n",
       "      <td>2817.921207</td>\n",
       "      <td>0.0</td>\n",
       "      <td>1004.25</td>\n",
       "      <td>3680.5</td>\n",
       "      <td>6348.75</td>\n",
       "      <td>9015.0</td>\n",
       "    </tr>\n",
       "    <tr>\n",
       "      <th>year</th>\n",
       "      <td>10186.0</td>\n",
       "      <td>2007.706853</td>\n",
       "      <td>4.047104</td>\n",
       "      <td>2001.0</td>\n",
       "      <td>2004.00</td>\n",
       "      <td>2008.0</td>\n",
       "      <td>2011.00</td>\n",
       "      <td>2014.0</td>\n",
       "    </tr>\n",
       "    <tr>\n",
       "      <th>rape</th>\n",
       "      <td>10186.0</td>\n",
       "      <td>30.392598</td>\n",
       "      <td>34.421687</td>\n",
       "      <td>0.0</td>\n",
       "      <td>8.00</td>\n",
       "      <td>21.0</td>\n",
       "      <td>42.00</td>\n",
       "      <td>607.0</td>\n",
       "    </tr>\n",
       "    <tr>\n",
       "      <th>kidnapping_and_abduction</th>\n",
       "      <td>10186.0</td>\n",
       "      <td>36.628608</td>\n",
       "      <td>53.621047</td>\n",
       "      <td>0.0</td>\n",
       "      <td>6.00</td>\n",
       "      <td>19.0</td>\n",
       "      <td>46.00</td>\n",
       "      <td>688.0</td>\n",
       "    </tr>\n",
       "    <tr>\n",
       "      <th>dowry_deaths</th>\n",
       "      <td>10186.0</td>\n",
       "      <td>10.577263</td>\n",
       "      <td>14.305337</td>\n",
       "      <td>0.0</td>\n",
       "      <td>1.00</td>\n",
       "      <td>5.0</td>\n",
       "      <td>15.00</td>\n",
       "      <td>178.0</td>\n",
       "    </tr>\n",
       "    <tr>\n",
       "      <th>assault_on_women</th>\n",
       "      <td>10186.0</td>\n",
       "      <td>59.506087</td>\n",
       "      <td>77.529300</td>\n",
       "      <td>0.0</td>\n",
       "      <td>10.00</td>\n",
       "      <td>32.0</td>\n",
       "      <td>79.00</td>\n",
       "      <td>1626.0</td>\n",
       "    </tr>\n",
       "    <tr>\n",
       "      <th>insult_to_modesty</th>\n",
       "      <td>10186.0</td>\n",
       "      <td>14.370509</td>\n",
       "      <td>44.299678</td>\n",
       "      <td>0.0</td>\n",
       "      <td>0.00</td>\n",
       "      <td>1.0</td>\n",
       "      <td>11.00</td>\n",
       "      <td>1257.0</td>\n",
       "    </tr>\n",
       "    <tr>\n",
       "      <th>cruelty_by_husband_or_relatives</th>\n",
       "      <td>10186.0</td>\n",
       "      <td>109.654820</td>\n",
       "      <td>193.378706</td>\n",
       "      <td>0.0</td>\n",
       "      <td>11.00</td>\n",
       "      <td>49.0</td>\n",
       "      <td>134.00</td>\n",
       "      <td>3504.0</td>\n",
       "    </tr>\n",
       "    <tr>\n",
       "      <th>importation_of_girls</th>\n",
       "      <td>10186.0</td>\n",
       "      <td>0.091891</td>\n",
       "      <td>1.323404</td>\n",
       "      <td>0.0</td>\n",
       "      <td>0.00</td>\n",
       "      <td>0.0</td>\n",
       "      <td>0.00</td>\n",
       "      <td>60.0</td>\n",
       "    </tr>\n",
       "  </tbody>\n",
       "</table>\n",
       "</div>"
      ],
      "text/plain": [
       "                                   count         mean          std     min  \\\n",
       "sr_no                            10186.0  3870.217357  2817.921207     0.0   \n",
       "year                             10186.0  2007.706853     4.047104  2001.0   \n",
       "rape                             10186.0    30.392598    34.421687     0.0   \n",
       "kidnapping_and_abduction         10186.0    36.628608    53.621047     0.0   \n",
       "dowry_deaths                     10186.0    10.577263    14.305337     0.0   \n",
       "assault_on_women                 10186.0    59.506087    77.529300     0.0   \n",
       "insult_to_modesty                10186.0    14.370509    44.299678     0.0   \n",
       "cruelty_by_husband_or_relatives  10186.0   109.654820   193.378706     0.0   \n",
       "importation_of_girls             10186.0     0.091891     1.323404     0.0   \n",
       "\n",
       "                                     25%     50%      75%     max  \n",
       "sr_no                            1004.25  3680.5  6348.75  9015.0  \n",
       "year                             2004.00  2008.0  2011.00  2014.0  \n",
       "rape                                8.00    21.0    42.00   607.0  \n",
       "kidnapping_and_abduction            6.00    19.0    46.00   688.0  \n",
       "dowry_deaths                        1.00     5.0    15.00   178.0  \n",
       "assault_on_women                   10.00    32.0    79.00  1626.0  \n",
       "insult_to_modesty                   0.00     1.0    11.00  1257.0  \n",
       "cruelty_by_husband_or_relatives    11.00    49.0   134.00  3504.0  \n",
       "importation_of_girls                0.00     0.0     0.00    60.0  "
      ]
     },
     "execution_count": 131,
     "metadata": {},
     "output_type": "execute_result"
    }
   ],
   "source": [
    "# statistics description\n",
    "data.describe().T"
   ]
  },
  {
   "cell_type": "code",
   "execution_count": 132,
   "metadata": {
    "colab": {
     "base_uri": "https://localhost:8080/"
    },
    "id": "zaJs-a6CnCk-",
    "outputId": "512cbf73-d4c7-4ae1-bf2f-ae90f4a8d322"
   },
   "outputs": [
    {
     "name": "stdout",
     "output_type": "stream",
     "text": [
      "['ANDHRA PRADESH' 'ARUNACHAL PRADESH' 'ASSAM' 'BIHAR' 'CHHATTISGARH' 'GOA'\n",
      " 'GUJARAT' 'HARYANA' 'HIMACHAL PRADESH' 'JAMMU & KASHMIR' 'JHARKHAND'\n",
      " 'KARNATAKA' 'KERALA' 'MADHYA PRADESH' 'MAHARASHTRA' 'MANIPUR' 'MEGHALAYA'\n",
      " 'MIZORAM' 'NAGALAND' 'ODISHA' 'PUNJAB' 'RAJASTHAN' 'SIKKIM' 'TAMIL NADU'\n",
      " 'TRIPURA' 'UTTAR PRADESH' 'UTTRAKHAND' 'WEST BENGAL' 'A & N ISLANDS'\n",
      " 'CHANDIGARH' 'D & N HAVELI' 'DAMAN & DIU' 'DELHI' 'LAKSHADWEEP'\n",
      " 'PUDUCHERRY' 'TELANGANA']\n",
      "The total number of states/ut after removing duplicate is: 36\n"
     ]
    }
   ],
   "source": [
    "# count the nber of state\n",
    "states= data['state_ut'].unique()\n",
    "count_states = len(states)\n",
    "print(states)\n",
    "print(f'The total number of states/ut after removing duplicate is: {count_states}')"
   ]
  },
  {
   "cell_type": "markdown",
   "metadata": {
    "id": "dPBJvKUfxQfK"
   },
   "source": [
    "## We had totally 29 states and 7 union territories in 2014."
   ]
  },
  {
   "cell_type": "code",
   "execution_count": 133,
   "metadata": {
    "colab": {
     "base_uri": "https://localhost:8080/"
    },
    "id": "tKpc9a1YWq85",
    "outputId": "cc77f939-33eb-464b-d1e4-61e3b648e2b4"
   },
   "outputs": [
    {
     "name": "stdout",
     "output_type": "stream",
     "text": [
      "sr_no                              0\n",
      "state_ut                           0\n",
      "district                           0\n",
      "year                               0\n",
      "rape                               0\n",
      "kidnapping_and_abduction           0\n",
      "dowry_deaths                       0\n",
      "assault_on_women                   0\n",
      "insult_to_modesty                  0\n",
      "cruelty_by_husband_or_relatives    0\n",
      "importation_of_girls               0\n",
      "dtype: int64\n",
      "\n",
      " The total number of missed values is:  0\n"
     ]
    }
   ],
   "source": [
    "# checking missing values\n",
    "print(data.isnull().sum())\n",
    "print('\\n The total number of missed values is: ',data.isnull().sum().sum() )"
   ]
  },
  {
   "cell_type": "code",
   "execution_count": 105,
   "metadata": {},
   "outputs": [
    {
     "data": {
      "text/plain": [
       "<AxesSubplot:>"
      ]
     },
     "execution_count": 105,
     "metadata": {},
     "output_type": "execute_result"
    },
    {
     "data": {
      "image/png": "[encoded data removed]",
      "text/plain": [
       "<Figure size 432x288 with 2 Axes>"
      ]
     },
     "metadata": {
      "needs_background": "light"
     },
     "output_type": "display_data"
    }
   ],
   "source": [
    "datac=data.drop(['sr_no','state_ut','district','year'],axis=1)\n",
    "correlation=datac.corr()\n",
    "sns.heatmap(correlation,annot=True)"
   ]
  },
  {
   "cell_type": "markdown",
   "metadata": {},
   "source": [
    "## From correlation heatmap, it can be observed that for various districts as cases of one type of violence goes up, it is highly likely that other forms will also go up."
   ]
  },
  {
   "cell_type": "code",
   "execution_count": 134,
   "metadata": {},
   "outputs": [],
   "source": [
    "Rape=data['rape'].sum()\n",
    "Kidnap_abduction=data['kidnapping_and_abduction'].sum()\n",
    "Dowry_deaths=data['dowry_deaths'].sum()\n",
    "Assault=data['assault_on_women'].sum()\n",
    "Insult=data['insult_to_modesty'].sum()\n",
    "Domestic_cruelty=data['cruelty_by_husband_or_relatives'].sum()\n",
    "Importation=data['importation_of_girls'].sum()"
   ]
  },
  {
   "cell_type": "code",
   "execution_count": 135,
   "metadata": {},
   "outputs": [
    {
     "data": {
      "text/plain": [
       "(309579, 373099, 107740, 606129, 146378, 1116944, 936)"
      ]
     },
     "execution_count": 135,
     "metadata": {},
     "output_type": "execute_result"
    }
   ],
   "source": [
    "Rape, Kidnap_abduction, Dowry_deaths, Assault, Insult, Domestic_cruelty, Importation"
   ]
  },
  {
   "cell_type": "code",
   "execution_count": 136,
   "metadata": {},
   "outputs": [],
   "source": [
    "ways= [\"Rape\", \"Kidnap\", \"Dowry\",\"Assault\",\"Insult\",\"Cruelty\",\"Importation\"]\n",
    "Sumofcases=[Rape,Kidnap_abduction,Dowry_deaths,Assault,Insult,Domestic_cruelty,Importation]"
   ]
  },
  {
   "cell_type": "markdown",
   "metadata": {},
   "source": [
    "### Comparing count of incidences of various forms of violence against women from 2001-2014"
   ]
  },
  {
   "cell_type": "code",
   "execution_count": 109,
   "metadata": {},
   "outputs": [
    {
     "data": {
      "image/png": "[encoded data removed]",
      "text/plain": [
       "<Figure size 432x288 with 1 Axes>"
      ]
     },
     "metadata": {
      "needs_background": "light"
     },
     "output_type": "display_data"
    }
   ],
   "source": [
    "plot1=plt.bar(ways,Sumofcases,width=.8)\n"
   ]
  },
  {
   "cell_type": "markdown",
   "metadata": {},
   "source": [
    "## Over a million cases of cruelty and half million cases of assault have been reported in just 14 years."
   ]
  },
  {
   "cell_type": "markdown",
   "metadata": {},
   "source": [
    "### Comparing number of reported rape cases by year"
   ]
  },
  {
   "cell_type": "code",
   "execution_count": 110,
   "metadata": {},
   "outputs": [
    {
     "data": {
      "image/png": "[encoded data removed]",
      "text/plain": [
       "<Figure size 432x288 with 1 Axes>"
      ]
     },
     "metadata": {
      "needs_background": "light"
     },
     "output_type": "display_data"
    }
   ],
   "source": [
    "df2=data.groupby('year')['rape'].sum().plot(kind=\"line\")"
   ]
  },
  {
   "cell_type": "markdown",
   "metadata": {},
   "source": [
    "## Number of rape cases have shown an increasing trend over the years."
   ]
  },
  {
   "cell_type": "code",
   "execution_count": 111,
   "metadata": {},
   "outputs": [
    {
     "data": {
      "image/png": "[encoded data removed]",
      "text/plain": [
       "<Figure size 432x288 with 1 Axes>"
      ]
     },
     "metadata": {
      "needs_background": "light"
     },
     "output_type": "display_data"
    }
   ],
   "source": [
    "df3=data.groupby('year')['dowry_deaths'].sum().plot(kind=\"line\")"
   ]
  },
  {
   "cell_type": "markdown",
   "metadata": {},
   "source": [
    "## Number of dowry deaths, there is no decline in number of dowry deaths."
   ]
  },
  {
   "cell_type": "code",
   "execution_count": 112,
   "metadata": {},
   "outputs": [],
   "source": [
    "df= data[data.year == 2014]"
   ]
  },
  {
   "cell_type": "code",
   "execution_count": 113,
   "metadata": {},
   "outputs": [],
   "source": [
    "dfs= df.sort_values(by = \"rape\", axis = 0)"
   ]
  },
  {
   "cell_type": "code",
   "execution_count": 114,
   "metadata": {},
   "outputs": [
    {
     "data": {
      "image/png": "[encoded data removed]",
      "text/plain": [
       "<Figure size 432x288 with 1 Axes>"
      ]
     },
     "metadata": {
      "needs_background": "light"
     },
     "output_type": "display_data"
    }
   ],
   "source": [
    "df2=dfs.groupby('state_ut')['rape'].sum().nlargest(10).plot(kind=\"bar\")\n"
   ]
  },
  {
   "cell_type": "markdown",
   "metadata": {},
   "source": [
    "## Top 10 states with most number of rapes in 2014"
   ]
  },
  {
   "cell_type": "code",
   "execution_count": 115,
   "metadata": {},
   "outputs": [],
   "source": [
    "df4=df.loc[data['state_ut'] == \"MADHYA PRADESH\"]"
   ]
  },
  {
   "cell_type": "code",
   "execution_count": 116,
   "metadata": {},
   "outputs": [
    {
     "data": {
      "text/html": [
       "<div>\n",
       "<style scoped>\n",
       "    .dataframe tbody tr th:only-of-type {\n",
       "        vertical-align: middle;\n",
       "    }\n",
       "\n",
       "    .dataframe tbody tr th {\n",
       "        vertical-align: top;\n",
       "    }\n",
       "\n",
       "    .dataframe thead th {\n",
       "        text-align: right;\n",
       "    }\n",
       "</style>\n",
       "<table border=\"1\" class=\"dataframe\">\n",
       "  <thead>\n",
       "    <tr style=\"text-align: right;\">\n",
       "      <th></th>\n",
       "      <th>sr_no</th>\n",
       "      <th>state_ut</th>\n",
       "      <th>district</th>\n",
       "      <th>year</th>\n",
       "      <th>rape</th>\n",
       "      <th>kidnapping_and_abduction</th>\n",
       "      <th>dowry_deaths</th>\n",
       "      <th>assault_on_women</th>\n",
       "      <th>insult_to_modesty</th>\n",
       "      <th>cruelty_by_husband_or_relatives</th>\n",
       "      <th>importation_of_girls</th>\n",
       "    </tr>\n",
       "  </thead>\n",
       "  <tbody>\n",
       "    <tr>\n",
       "      <th>9721</th>\n",
       "      <td>349</td>\n",
       "      <td>MADHYA PRADESH</td>\n",
       "      <td>AGAR</td>\n",
       "      <td>2014</td>\n",
       "      <td>28</td>\n",
       "      <td>12</td>\n",
       "      <td>2</td>\n",
       "      <td>56</td>\n",
       "      <td>8</td>\n",
       "      <td>44</td>\n",
       "      <td>0</td>\n",
       "    </tr>\n",
       "    <tr>\n",
       "      <th>9722</th>\n",
       "      <td>350</td>\n",
       "      <td>MADHYA PRADESH</td>\n",
       "      <td>ALIRAJPUR</td>\n",
       "      <td>2014</td>\n",
       "      <td>17</td>\n",
       "      <td>15</td>\n",
       "      <td>0</td>\n",
       "      <td>15</td>\n",
       "      <td>0</td>\n",
       "      <td>10</td>\n",
       "      <td>0</td>\n",
       "    </tr>\n",
       "    <tr>\n",
       "      <th>9723</th>\n",
       "      <td>351</td>\n",
       "      <td>MADHYA PRADESH</td>\n",
       "      <td>ANUPPUR</td>\n",
       "      <td>2014</td>\n",
       "      <td>70</td>\n",
       "      <td>83</td>\n",
       "      <td>7</td>\n",
       "      <td>121</td>\n",
       "      <td>0</td>\n",
       "      <td>114</td>\n",
       "      <td>0</td>\n",
       "    </tr>\n",
       "    <tr>\n",
       "      <th>9724</th>\n",
       "      <td>352</td>\n",
       "      <td>MADHYA PRADESH</td>\n",
       "      <td>ASHOK NAGAR</td>\n",
       "      <td>2014</td>\n",
       "      <td>76</td>\n",
       "      <td>38</td>\n",
       "      <td>12</td>\n",
       "      <td>171</td>\n",
       "      <td>1</td>\n",
       "      <td>82</td>\n",
       "      <td>0</td>\n",
       "    </tr>\n",
       "    <tr>\n",
       "      <th>9725</th>\n",
       "      <td>353</td>\n",
       "      <td>MADHYA PRADESH</td>\n",
       "      <td>BALAGHAT</td>\n",
       "      <td>2014</td>\n",
       "      <td>131</td>\n",
       "      <td>155</td>\n",
       "      <td>12</td>\n",
       "      <td>178</td>\n",
       "      <td>3</td>\n",
       "      <td>107</td>\n",
       "      <td>0</td>\n",
       "    </tr>\n",
       "  </tbody>\n",
       "</table>\n",
       "</div>"
      ],
      "text/plain": [
       "      sr_no        state_ut     district  year  rape  \\\n",
       "9721    349  MADHYA PRADESH         AGAR  2014    28   \n",
       "9722    350  MADHYA PRADESH    ALIRAJPUR  2014    17   \n",
       "9723    351  MADHYA PRADESH      ANUPPUR  2014    70   \n",
       "9724    352  MADHYA PRADESH  ASHOK NAGAR  2014    76   \n",
       "9725    353  MADHYA PRADESH     BALAGHAT  2014   131   \n",
       "\n",
       "      kidnapping_and_abduction  dowry_deaths  assault_on_women  \\\n",
       "9721                        12             2                56   \n",
       "9722                        15             0                15   \n",
       "9723                        83             7               121   \n",
       "9724                        38            12               171   \n",
       "9725                       155            12               178   \n",
       "\n",
       "      insult_to_modesty  cruelty_by_husband_or_relatives  importation_of_girls  \n",
       "9721                  8                               44                     0  \n",
       "9722                  0                               10                     0  \n",
       "9723                  0                              114                     0  \n",
       "9724                  1                               82                     0  \n",
       "9725                  3                              107                     0  "
      ]
     },
     "execution_count": 116,
     "metadata": {},
     "output_type": "execute_result"
    }
   ],
   "source": [
    "df4.head()\n"
   ]
  },
  {
   "cell_type": "code",
   "execution_count": 117,
   "metadata": {},
   "outputs": [
    {
     "data": {
      "image/png": "[encoded data removed]",
      "text/plain": [
       "<Figure size 432x288 with 1 Axes>"
      ]
     },
     "metadata": {
      "needs_background": "light"
     },
     "output_type": "display_data"
    }
   ],
   "source": [
    "df5=df4.groupby('district')['rape'].sum().nlargest(10).plot(kind=\"barh\")"
   ]
  },
  {
   "cell_type": "markdown",
   "metadata": {},
   "source": [
    "## Top districts in Madhya Pradesh that reported high rape cases."
   ]
  },
  {
   "cell_type": "code",
   "execution_count": 120,
   "metadata": {},
   "outputs": [
    {
     "data": {
      "image/png": "[encoded data removed]",
      "text/plain": [
       "<Figure size 432x288 with 1 Axes>"
      ]
     },
     "metadata": {
      "needs_background": "light"
     },
     "output_type": "display_data"
    }
   ],
   "source": [
    "df3=dfs.groupby('state_ut')['dowry_deaths'].sum().nlargest(10).plot(kind=\"bar\")\n"
   ]
  },
  {
   "cell_type": "markdown",
   "metadata": {},
   "source": [
    "## Top 10 states with maximum dowry deaths. Bihar and Uttar Pradesh have reported very high numbers."
   ]
  },
  {
   "cell_type": "code",
   "execution_count": 119,
   "metadata": {},
   "outputs": [
    {
     "data": {
      "image/png": "[encoded data removed]",
      "text/plain": [
       "<Figure size 432x288 with 1 Axes>"
      ]
     },
     "metadata": {
      "needs_background": "light"
     },
     "output_type": "display_data"
    }
   ],
   "source": [
    "state_list = ['BIHAR','UTTAR PRADESH']\n",
    "filtered_df = df[df['state_ut'].isin(state_list)]\n",
    "df6=filtered_df.groupby('district')['dowry_deaths'].sum().nlargest(10).plot(kind=\"barh\")"
   ]
  },
  {
   "cell_type": "markdown",
   "metadata": {},
   "source": [
    "## Top 10 districts in Bihar and Uttar Pradesh that have unusually high rate of dowry deaths."
   ]
  },
  {
   "cell_type": "code",
   "execution_count": 123,
   "metadata": {},
   "outputs": [],
   "source": [
    "total_acts=data[\"rape\"]+data[\"kidnapping_and_abduction\"]+data[\"dowry_deaths\"]+data[\"assault_on_women\"]+data[\"insult_to_modesty\"]+data[\"cruelty_by_husband_or_relatives\"]+data[\"importation_of_girls\"]"
   ]
  },
  {
   "cell_type": "code",
   "execution_count": 124,
   "metadata": {},
   "outputs": [],
   "source": [
    "data['total_cases']=total_acts"
   ]
  },
  {
   "cell_type": "code",
   "execution_count": 125,
   "metadata": {},
   "outputs": [
    {
     "data": {
      "image/png": "[encoded data removed]",
      "text/plain": [
       "<Figure size 432x288 with 1 Axes>"
      ]
     },
     "metadata": {
      "needs_background": "light"
     },
     "output_type": "display_data"
    }
   ],
   "source": [
    "df7=data.groupby('year')['total_cases'].sum().nlargest(10).plot(kind=\"barh\")"
   ]
  },
  {
   "cell_type": "markdown",
   "metadata": {},
   "source": [
    "## Over the years, cases have only risen despite improvements in literacy rates and policies introduced by government."
   ]
  },
  {
   "cell_type": "code",
   "execution_count": null,
   "metadata": {},
   "outputs": [],
   "source": []
  },
  {
   "cell_type": "code",
   "execution_count": null,
   "metadata": {},
   "outputs": [],
   "source": []
  },
  {
   "cell_type": "code",
   "execution_count": null,
   "metadata": {},
   "outputs": [],
   "source": []
  },
  {
   "cell_type": "code",
   "execution_count": null,
   "metadata": {},
   "outputs": [],
   "source": []
  },
  {
   "cell_type": "code",
   "execution_count": null,
   "metadata": {},
   "outputs": [],
   "source": []
  },
  {
   "cell_type": "code",
   "execution_count": null,
   "metadata": {},
   "outputs": [],
   "source": []
  },
  {
   "cell_type": "markdown",
   "metadata": {
    "id": "ebRVL6O5NRGv"
   },
   "source": [
    "### Summary of the data"
   ]
  },
  {
   "cell_type": "code",
   "execution_count": null,
   "metadata": {
    "colab": {
     "base_uri": "https://localhost:8080/",
     "height": 297
    },
    "id": "S_6qdUqKWhG2",
    "outputId": "d650f83c-a452-4c8d-870d-344102e6c24c"
   },
   "outputs": [
    {
     "data": {
      "text/plain": [
       "<matplotlib.axes._subplots.AxesSubplot at 0x7f5255263050>"
      ]
     },
     "execution_count": 22,
     "metadata": {},
     "output_type": "execute_result"
    },
    {
     "data": {
      "image/png": "[encoded data removed]",
      "text/plain": [
       "<Figure size 432x288 with 1 Axes>"
      ]
     },
     "metadata": {},
     "output_type": "display_data"
    }
   ],
   "source": [
    "sns.regplot(x='Assault on women with intent to outrage her modesty', y='Rape', data=data)"
   ]
  },
  {
   "cell_type": "code",
   "execution_count": null,
   "metadata": {
    "colab": {
     "base_uri": "https://localhost:8080/",
     "height": 920
    },
    "id": "K8ObnSEuOjj5",
    "outputId": "e9287a96-f627-45c6-8657-3e6ab2f47522"
   },
   "outputs": [
    {
     "data": {
      "image/png": "[encoded data removed]",
      "text/plain": [
       "<Figure size 900x900 with 30 Axes>"
      ]
     },
     "metadata": {
      "needs_background": "light"
     },
     "output_type": "display_data"
    }
   ],
   "source": [
    "# correlation between variables without outliers\n",
    "sns.pairplot(dt)\n",
    "plt.show()"
   ]
  },
  {
   "cell_type": "code",
   "execution_count": null,
   "metadata": {
    "colab": {
     "base_uri": "https://localhost:8080/"
    },
    "id": "t9rpoIGky2O-",
    "outputId": "3d7d5937-82af-4b33-910e-813c38a13ddc"
   },
   "outputs": [
    {
     "data": {
      "text/plain": [
       "10677"
      ]
     },
     "execution_count": 9,
     "metadata": {},
     "output_type": "execute_result"
    }
   ],
   "source": [
    "data['Importation of Girls'].count()"
   ]
  },
  {
   "cell_type": "markdown",
   "metadata": {
    "id": "lJ3VZ07jNzw1"
   },
   "source": [
    "### Count plot"
   ]
  },
  {
   "cell_type": "code",
   "execution_count": null,
   "metadata": {
    "colab": {
     "base_uri": "https://localhost:8080/",
     "height": 279
    },
    "id": "8cVg9yWiG7K6",
    "outputId": "c38f73c6-bca0-4391-b240-dcd5f5b5c6ef"
   },
   "outputs": [
    {
     "data": {
      "image/png": "[encoded data removed]",
      "text/plain": [
       "<Figure size 432x288 with 1 Axes>"
      ]
     },
     "metadata": {},
     "output_type": "display_data"
    }
   ],
   "source": [
    "# histogram and Probability Density Function(PDF) of spei\n",
    "import matplotlib.lines as mlines\n",
    "\n",
    "\n",
    "sns.distplot(data.Rape, bins=20)\n",
    "blue_line = mlines.Line2D([], [], color='blue', marker='*',\n",
    "                          markersize=15, label='Rape')\n",
    "plt.legend(handles=[blue_line])\n",
    "# plt.legend()\n",
    "plt.show()"
   ]
  },
  {
   "cell_type": "code",
   "execution_count": null,
   "metadata": {
    "id": "SYlLzLBkEgk1"
   },
   "outputs": [],
   "source": [
    "import plotly.express as px\n"
   ]
  },
  {
   "cell_type": "code",
   "execution_count": null,
   "metadata": {
    "id": "qA6nRvv8_RUH"
   },
   "outputs": [],
   "source": []
  }
 ],
 "metadata": {
  "colab": {
   "collapsed_sections": [],
   "name": "Copy of EDA_Annine.ipynb",
   "provenance": []
  },
  "kernelspec": {
   "display_name": "Python 3 (ipykernel)",
   "language": "python",
   "name": "python3"
  },
  "language_info": {
   "codemirror_mode": {
    "name": "ipython",
    "version": 3
   },
   "file_extension": ".py",
   "mimetype": "text/x-python",
   "name": "python",
   "nbconvert_exporter": "python",
   "pygments_lexer": "ipython3",
   "version": "3.9.7"
  },
  "widgets": {
   "application/vnd.jupyter.widget-state+json": {
    "0be85a1d951e467fba49af8d94379251": {
     "model_module": "@jupyter-widgets/controls",
     "model_module_version": "1.5.0",
     "model_name": "DescriptionStyleModel",
     "state": {
      "_model_module": "@jupyter-widgets/controls",
      "_model_module_version": "1.5.0",
      "_model_name": "DescriptionStyleModel",
      "_view_count": null,
      "_view_module": "@jupyter-widgets/base",
      "_view_module_version": "1.2.0",
      "_view_name": "StyleView",
      "description_width": ""
     }
    },
    "1887389dbab04fb0b0662905ce498933": {
     "model_module": "@jupyter-widgets/base",
     "model_module_version": "1.2.0",
     "model_name": "LayoutModel",
     "state": {
      "_model_module": "@jupyter-widgets/base",
      "_model_module_version": "1.2.0",
      "_model_name": "LayoutModel",
      "_view_count": null,
      "_view_module": "@jupyter-widgets/base",
      "_view_module_version": "1.2.0",
      "_view_name": "LayoutView",
      "align_content": null,
      "align_items": null,
      "align_self": null,
      "border": null,
      "bottom": null,
      "display": null,
      "flex": null,
      "flex_flow": null,
      "grid_area": null,
      "grid_auto_columns": null,
      "grid_auto_flow": null,
      "grid_auto_rows": null,
      "grid_column": null,
      "grid_gap": null,
      "grid_row": null,
      "grid_template_areas": null,
      "grid_template_columns": null,
      "grid_template_rows": null,
      "height": null,
      "justify_content": null,
      "justify_items": null,
      "left": null,
      "margin": null,
      "max_height": null,
      "max_width": null,
      "min_height": null,
      "min_width": null,
      "object_fit": null,
      "object_position": null,
      "order": null,
      "overflow": null,
      "overflow_x": null,
      "overflow_y": null,
      "padding": null,
      "right": null,
      "top": null,
      "visibility": null,
      "width": null
     }
    },
    "1d4e3d00b47f4913bb6439b75bb4dc47": {
     "model_module": "@jupyter-widgets/controls",
     "model_module_version": "1.5.0",
     "model_name": "HTMLModel",
     "state": {
      "_dom_classes": [],
      "_model_module": "@jupyter-widgets/controls",
      "_model_module_version": "1.5.0",
      "_model_name": "HTMLModel",
      "_view_count": null,
      "_view_module": "@jupyter-widgets/controls",
      "_view_module_version": "1.5.0",
      "_view_name": "HTMLView",
      "description": "",
      "description_tooltip": null,
      "layout": "IPY_MODEL_25eb77907ad34a958c26bfb37bea3b70",
      "placeholder": "​",
      "style": "IPY_MODEL_e0e9831a63ed474aba2f8cde44294909",
      "value": "Summarize dataset: 100%"
     }
    },
    "241304520dda47d5938f3f2073d88992": {
     "model_module": "@jupyter-widgets/controls",
     "model_module_version": "1.5.0",
     "model_name": "ProgressStyleModel",
     "state": {
      "_model_module": "@jupyter-widgets/controls",
      "_model_module_version": "1.5.0",
      "_model_name": "ProgressStyleModel",
      "_view_count": null,
      "_view_module": "@jupyter-widgets/base",
      "_view_module_version": "1.2.0",
      "_view_name": "StyleView",
      "bar_color": null,
      "description_width": ""
     }
    },
    "25eb77907ad34a958c26bfb37bea3b70": {
     "model_module": "@jupyter-widgets/base",
     "model_module_version": "1.2.0",
     "model_name": "LayoutModel",
     "state": {
      "_model_module": "@jupyter-widgets/base",
      "_model_module_version": "1.2.0",
      "_model_name": "LayoutModel",
      "_view_count": null,
      "_view_module": "@jupyter-widgets/base",
      "_view_module_version": "1.2.0",
      "_view_name": "LayoutView",
      "align_content": null,
      "align_items": null,
      "align_self": null,
      "border": null,
      "bottom": null,
      "display": null,
      "flex": null,
      "flex_flow": null,
      "grid_area": null,
      "grid_auto_columns": null,
      "grid_auto_flow": null,
      "grid_auto_rows": null,
      "grid_column": null,
      "grid_gap": null,
      "grid_row": null,
      "grid_template_areas": null,
      "grid_template_columns": null,
      "grid_template_rows": null,
      "height": null,
      "justify_content": null,
      "justify_items": null,
      "left": null,
      "margin": null,
      "max_height": null,
      "max_width": null,
      "min_height": null,
      "min_width": null,
      "object_fit": null,
      "object_position": null,
      "order": null,
      "overflow": null,
      "overflow_x": null,
      "overflow_y": null,
      "padding": null,
      "right": null,
      "top": null,
      "visibility": null,
      "width": null
     }
    },
    "29455cee15924eb8b06325ba372ae24c": {
     "model_module": "@jupyter-widgets/base",
     "model_module_version": "1.2.0",
     "model_name": "LayoutModel",
     "state": {
      "_model_module": "@jupyter-widgets/base",
      "_model_module_version": "1.2.0",
      "_model_name": "LayoutModel",
      "_view_count": null,
      "_view_module": "@jupyter-widgets/base",
      "_view_module_version": "1.2.0",
      "_view_name": "LayoutView",
      "align_content": null,
      "align_items": null,
      "align_self": null,
      "border": null,
      "bottom": null,
      "display": null,
      "flex": null,
      "flex_flow": null,
      "grid_area": null,
      "grid_auto_columns": null,
      "grid_auto_flow": null,
      "grid_auto_rows": null,
      "grid_column": null,
      "grid_gap": null,
      "grid_row": null,
      "grid_template_areas": null,
      "grid_template_columns": null,
      "grid_template_rows": null,
      "height": null,
      "justify_content": null,
      "justify_items": null,
      "left": null,
      "margin": null,
      "max_height": null,
      "max_width": null,
      "min_height": null,
      "min_width": null,
      "object_fit": null,
      "object_position": null,
      "order": null,
      "overflow": null,
      "overflow_x": null,
      "overflow_y": null,
      "padding": null,
      "right": null,
      "top": null,
      "visibility": null,
      "width": null
     }
    },
    "353a8e8bc44745c29628fc28275686ff": {
     "model_module": "@jupyter-widgets/controls",
     "model_module_version": "1.5.0",
     "model_name": "HBoxModel",
     "state": {
      "_dom_classes": [],
      "_model_module": "@jupyter-widgets/controls",
      "_model_module_version": "1.5.0",
      "_model_name": "HBoxModel",
      "_view_count": null,
      "_view_module": "@jupyter-widgets/controls",
      "_view_module_version": "1.5.0",
      "_view_name": "HBoxView",
      "box_style": "",
      "children": [
       "IPY_MODEL_430bdeaf0d87487f8f99dc193d7f071f",
       "IPY_MODEL_56a902cb62fc4eb6821d79cc3a3d7846",
       "IPY_MODEL_83357794debd41df809fe6367f3016d3"
      ],
      "layout": "IPY_MODEL_7fdbc27b121d4fb9a326db456c5e4ede"
     }
    },
    "41ff439e6eb14fb6a45c6f1767315b6c": {
     "model_module": "@jupyter-widgets/base",
     "model_module_version": "1.2.0",
     "model_name": "LayoutModel",
     "state": {
      "_model_module": "@jupyter-widgets/base",
      "_model_module_version": "1.2.0",
      "_model_name": "LayoutModel",
      "_view_count": null,
      "_view_module": "@jupyter-widgets/base",
      "_view_module_version": "1.2.0",
      "_view_name": "LayoutView",
      "align_content": null,
      "align_items": null,
      "align_self": null,
      "border": null,
      "bottom": null,
      "display": null,
      "flex": null,
      "flex_flow": null,
      "grid_area": null,
      "grid_auto_columns": null,
      "grid_auto_flow": null,
      "grid_auto_rows": null,
      "grid_column": null,
      "grid_gap": null,
      "grid_row": null,
      "grid_template_areas": null,
      "grid_template_columns": null,
      "grid_template_rows": null,
      "height": null,
      "justify_content": null,
      "justify_items": null,
      "left": null,
      "margin": null,
      "max_height": null,
      "max_width": null,
      "min_height": null,
      "min_width": null,
      "object_fit": null,
      "object_position": null,
      "order": null,
      "overflow": null,
      "overflow_x": null,
      "overflow_y": null,
      "padding": null,
      "right": null,
      "top": null,
      "visibility": null,
      "width": null
     }
    },
    "4291dff7f425478cb2865506e6bcec4b": {
     "model_module": "@jupyter-widgets/controls",
     "model_module_version": "1.5.0",
     "model_name": "FloatProgressModel",
     "state": {
      "_dom_classes": [],
      "_model_module": "@jupyter-widgets/controls",
      "_model_module_version": "1.5.0",
      "_model_name": "FloatProgressModel",
      "_view_count": null,
      "_view_module": "@jupyter-widgets/controls",
      "_view_module_version": "1.5.0",
      "_view_name": "ProgressView",
      "bar_style": "success",
      "description": "",
      "description_tooltip": null,
      "layout": "IPY_MODEL_8c52e64969d24ea69801e626957b72ba",
      "max": 1,
      "min": 0,
      "orientation": "horizontal",
      "style": "IPY_MODEL_97eebe28fc4e46d6b567554df4cab51f",
      "value": 1
     }
    },
    "430bdeaf0d87487f8f99dc193d7f071f": {
     "model_module": "@jupyter-widgets/controls",
     "model_module_version": "1.5.0",
     "model_name": "HTMLModel",
     "state": {
      "_dom_classes": [],
      "_model_module": "@jupyter-widgets/controls",
      "_model_module_version": "1.5.0",
      "_model_name": "HTMLModel",
      "_view_count": null,
      "_view_module": "@jupyter-widgets/controls",
      "_view_module_version": "1.5.0",
      "_view_name": "HTMLView",
      "description": "",
      "description_tooltip": null,
      "layout": "IPY_MODEL_a02817f847e54bb3b02919151a638c02",
      "placeholder": "​",
      "style": "IPY_MODEL_a7c807a7787b4334b510e4188c3215ae",
      "value": "Generate report structure: 100%"
     }
    },
    "53b9fe6192c24c1089604bd2461482b8": {
     "model_module": "@jupyter-widgets/base",
     "model_module_version": "1.2.0",
     "model_name": "LayoutModel",
     "state": {
      "_model_module": "@jupyter-widgets/base",
      "_model_module_version": "1.2.0",
      "_model_name": "LayoutModel",
      "_view_count": null,
      "_view_module": "@jupyter-widgets/base",
      "_view_module_version": "1.2.0",
      "_view_name": "LayoutView",
      "align_content": null,
      "align_items": null,
      "align_self": null,
      "border": null,
      "bottom": null,
      "display": null,
      "flex": null,
      "flex_flow": null,
      "grid_area": null,
      "grid_auto_columns": null,
      "grid_auto_flow": null,
      "grid_auto_rows": null,
      "grid_column": null,
      "grid_gap": null,
      "grid_row": null,
      "grid_template_areas": null,
      "grid_template_columns": null,
      "grid_template_rows": null,
      "height": null,
      "justify_content": null,
      "justify_items": null,
      "left": null,
      "margin": null,
      "max_height": null,
      "max_width": null,
      "min_height": null,
      "min_width": null,
      "object_fit": null,
      "object_position": null,
      "order": null,
      "overflow": null,
      "overflow_x": null,
      "overflow_y": null,
      "padding": null,
      "right": null,
      "top": null,
      "visibility": null,
      "width": null
     }
    },
    "56a902cb62fc4eb6821d79cc3a3d7846": {
     "model_module": "@jupyter-widgets/controls",
     "model_module_version": "1.5.0",
     "model_name": "FloatProgressModel",
     "state": {
      "_dom_classes": [],
      "_model_module": "@jupyter-widgets/controls",
      "_model_module_version": "1.5.0",
      "_model_name": "FloatProgressModel",
      "_view_count": null,
      "_view_module": "@jupyter-widgets/controls",
      "_view_module_version": "1.5.0",
      "_view_name": "ProgressView",
      "bar_style": "success",
      "description": "",
      "description_tooltip": null,
      "layout": "IPY_MODEL_b6cd114931654d2d9f072aca4f15ee8b",
      "max": 1,
      "min": 0,
      "orientation": "horizontal",
      "style": "IPY_MODEL_241304520dda47d5938f3f2073d88992",
      "value": 1
     }
    },
    "5aafa24e9c5a42dba81807f187671256": {
     "model_module": "@jupyter-widgets/controls",
     "model_module_version": "1.5.0",
     "model_name": "HTMLModel",
     "state": {
      "_dom_classes": [],
      "_model_module": "@jupyter-widgets/controls",
      "_model_module_version": "1.5.0",
      "_model_name": "HTMLModel",
      "_view_count": null,
      "_view_module": "@jupyter-widgets/controls",
      "_view_module_version": "1.5.0",
      "_view_name": "HTMLView",
      "description": "",
      "description_tooltip": null,
      "layout": "IPY_MODEL_64445e7fde9241948e894b38469aa3b6",
      "placeholder": "​",
      "style": "IPY_MODEL_73ead7bbc6784b2bbf2d7a15dc9f6d96",
      "value": " 87/87 [00:22&lt;00:00,  3.97it/s, Completed]"
     }
    },
    "64445e7fde9241948e894b38469aa3b6": {
     "model_module": "@jupyter-widgets/base",
     "model_module_version": "1.2.0",
     "model_name": "LayoutModel",
     "state": {
      "_model_module": "@jupyter-widgets/base",
      "_model_module_version": "1.2.0",
      "_model_name": "LayoutModel",
      "_view_count": null,
      "_view_module": "@jupyter-widgets/base",
      "_view_module_version": "1.2.0",
      "_view_name": "LayoutView",
      "align_content": null,
      "align_items": null,
      "align_self": null,
      "border": null,
      "bottom": null,
      "display": null,
      "flex": null,
      "flex_flow": null,
      "grid_area": null,
      "grid_auto_columns": null,
      "grid_auto_flow": null,
      "grid_auto_rows": null,
      "grid_column": null,
      "grid_gap": null,
      "grid_row": null,
      "grid_template_areas": null,
      "grid_template_columns": null,
      "grid_template_rows": null,
      "height": null,
      "justify_content": null,
      "justify_items": null,
      "left": null,
      "margin": null,
      "max_height": null,
      "max_width": null,
      "min_height": null,
      "min_width": null,
      "object_fit": null,
      "object_position": null,
      "order": null,
      "overflow": null,
      "overflow_x": null,
      "overflow_y": null,
      "padding": null,
      "right": null,
      "top": null,
      "visibility": null,
      "width": null
     }
    },
    "67c8db8dc52341e2a38648fb24a517fc": {
     "model_module": "@jupyter-widgets/controls",
     "model_module_version": "1.5.0",
     "model_name": "DescriptionStyleModel",
     "state": {
      "_model_module": "@jupyter-widgets/controls",
      "_model_module_version": "1.5.0",
      "_model_name": "DescriptionStyleModel",
      "_view_count": null,
      "_view_module": "@jupyter-widgets/base",
      "_view_module_version": "1.2.0",
      "_view_name": "StyleView",
      "description_width": ""
     }
    },
    "6abccdb9ca52486eae9c98fb6bffa7f4": {
     "model_module": "@jupyter-widgets/controls",
     "model_module_version": "1.5.0",
     "model_name": "HBoxModel",
     "state": {
      "_dom_classes": [],
      "_model_module": "@jupyter-widgets/controls",
      "_model_module_version": "1.5.0",
      "_model_name": "HBoxModel",
      "_view_count": null,
      "_view_module": "@jupyter-widgets/controls",
      "_view_module_version": "1.5.0",
      "_view_name": "HBoxView",
      "box_style": "",
      "children": [
       "IPY_MODEL_b8cc84bd599b4e9ebe16bdd7eb282791",
       "IPY_MODEL_4291dff7f425478cb2865506e6bcec4b",
       "IPY_MODEL_98f86bc79cb64029b30c30b6766492e3"
      ],
      "layout": "IPY_MODEL_53b9fe6192c24c1089604bd2461482b8"
     }
    },
    "6d7cc069915d4c95a6220bef23bb149f": {
     "model_module": "@jupyter-widgets/controls",
     "model_module_version": "1.5.0",
     "model_name": "HBoxModel",
     "state": {
      "_dom_classes": [],
      "_model_module": "@jupyter-widgets/controls",
      "_model_module_version": "1.5.0",
      "_model_name": "HBoxModel",
      "_view_count": null,
      "_view_module": "@jupyter-widgets/controls",
      "_view_module_version": "1.5.0",
      "_view_name": "HBoxView",
      "box_style": "",
      "children": [
       "IPY_MODEL_1d4e3d00b47f4913bb6439b75bb4dc47",
       "IPY_MODEL_e7cdb002799848da87a3610bedeae869",
       "IPY_MODEL_5aafa24e9c5a42dba81807f187671256"
      ],
      "layout": "IPY_MODEL_a2a73cda70a84f9293c06cbbe5d33de1"
     }
    },
    "73ead7bbc6784b2bbf2d7a15dc9f6d96": {
     "model_module": "@jupyter-widgets/controls",
     "model_module_version": "1.5.0",
     "model_name": "DescriptionStyleModel",
     "state": {
      "_model_module": "@jupyter-widgets/controls",
      "_model_module_version": "1.5.0",
      "_model_name": "DescriptionStyleModel",
      "_view_count": null,
      "_view_module": "@jupyter-widgets/base",
      "_view_module_version": "1.2.0",
      "_view_name": "StyleView",
      "description_width": ""
     }
    },
    "77266312554c4edaa59681f51d776425": {
     "model_module": "@jupyter-widgets/controls",
     "model_module_version": "1.5.0",
     "model_name": "DescriptionStyleModel",
     "state": {
      "_model_module": "@jupyter-widgets/controls",
      "_model_module_version": "1.5.0",
      "_model_name": "DescriptionStyleModel",
      "_view_count": null,
      "_view_module": "@jupyter-widgets/base",
      "_view_module_version": "1.2.0",
      "_view_name": "StyleView",
      "description_width": ""
     }
    },
    "7fdbc27b121d4fb9a326db456c5e4ede": {
     "model_module": "@jupyter-widgets/base",
     "model_module_version": "1.2.0",
     "model_name": "LayoutModel",
     "state": {
      "_model_module": "@jupyter-widgets/base",
      "_model_module_version": "1.2.0",
      "_model_name": "LayoutModel",
      "_view_count": null,
      "_view_module": "@jupyter-widgets/base",
      "_view_module_version": "1.2.0",
      "_view_name": "LayoutView",
      "align_content": null,
      "align_items": null,
      "align_self": null,
      "border": null,
      "bottom": null,
      "display": null,
      "flex": null,
      "flex_flow": null,
      "grid_area": null,
      "grid_auto_columns": null,
      "grid_auto_flow": null,
      "grid_auto_rows": null,
      "grid_column": null,
      "grid_gap": null,
      "grid_row": null,
      "grid_template_areas": null,
      "grid_template_columns": null,
      "grid_template_rows": null,
      "height": null,
      "justify_content": null,
      "justify_items": null,
      "left": null,
      "margin": null,
      "max_height": null,
      "max_width": null,
      "min_height": null,
      "min_width": null,
      "object_fit": null,
      "object_position": null,
      "order": null,
      "overflow": null,
      "overflow_x": null,
      "overflow_y": null,
      "padding": null,
      "right": null,
      "top": null,
      "visibility": null,
      "width": null
     }
    },
    "83357794debd41df809fe6367f3016d3": {
     "model_module": "@jupyter-widgets/controls",
     "model_module_version": "1.5.0",
     "model_name": "HTMLModel",
     "state": {
      "_dom_classes": [],
      "_model_module": "@jupyter-widgets/controls",
      "_model_module_version": "1.5.0",
      "_model_name": "HTMLModel",
      "_view_count": null,
      "_view_module": "@jupyter-widgets/controls",
      "_view_module_version": "1.5.0",
      "_view_name": "HTMLView",
      "description": "",
      "description_tooltip": null,
      "layout": "IPY_MODEL_41ff439e6eb14fb6a45c6f1767315b6c",
      "placeholder": "​",
      "style": "IPY_MODEL_67c8db8dc52341e2a38648fb24a517fc",
      "value": " 1/1 [00:07&lt;00:00,  7.26s/it]"
     }
    },
    "8c52e64969d24ea69801e626957b72ba": {
     "model_module": "@jupyter-widgets/base",
     "model_module_version": "1.2.0",
     "model_name": "LayoutModel",
     "state": {
      "_model_module": "@jupyter-widgets/base",
      "_model_module_version": "1.2.0",
      "_model_name": "LayoutModel",
      "_view_count": null,
      "_view_module": "@jupyter-widgets/base",
      "_view_module_version": "1.2.0",
      "_view_name": "LayoutView",
      "align_content": null,
      "align_items": null,
      "align_self": null,
      "border": null,
      "bottom": null,
      "display": null,
      "flex": null,
      "flex_flow": null,
      "grid_area": null,
      "grid_auto_columns": null,
      "grid_auto_flow": null,
      "grid_auto_rows": null,
      "grid_column": null,
      "grid_gap": null,
      "grid_row": null,
      "grid_template_areas": null,
      "grid_template_columns": null,
      "grid_template_rows": null,
      "height": null,
      "justify_content": null,
      "justify_items": null,
      "left": null,
      "margin": null,
      "max_height": null,
      "max_width": null,
      "min_height": null,
      "min_width": null,
      "object_fit": null,
      "object_position": null,
      "order": null,
      "overflow": null,
      "overflow_x": null,
      "overflow_y": null,
      "padding": null,
      "right": null,
      "top": null,
      "visibility": null,
      "width": null
     }
    },
    "97eebe28fc4e46d6b567554df4cab51f": {
     "model_module": "@jupyter-widgets/controls",
     "model_module_version": "1.5.0",
     "model_name": "ProgressStyleModel",
     "state": {
      "_model_module": "@jupyter-widgets/controls",
      "_model_module_version": "1.5.0",
      "_model_name": "ProgressStyleModel",
      "_view_count": null,
      "_view_module": "@jupyter-widgets/base",
      "_view_module_version": "1.2.0",
      "_view_name": "StyleView",
      "bar_color": null,
      "description_width": ""
     }
    },
    "98f86bc79cb64029b30c30b6766492e3": {
     "model_module": "@jupyter-widgets/controls",
     "model_module_version": "1.5.0",
     "model_name": "HTMLModel",
     "state": {
      "_dom_classes": [],
      "_model_module": "@jupyter-widgets/controls",
      "_model_module_version": "1.5.0",
      "_model_name": "HTMLModel",
      "_view_count": null,
      "_view_module": "@jupyter-widgets/controls",
      "_view_module_version": "1.5.0",
      "_view_name": "HTMLView",
      "description": "",
      "description_tooltip": null,
      "layout": "IPY_MODEL_1887389dbab04fb0b0662905ce498933",
      "placeholder": "​",
      "style": "IPY_MODEL_0be85a1d951e467fba49af8d94379251",
      "value": " 1/1 [00:03&lt;00:00,  3.13s/it]"
     }
    },
    "a0262bdab3274a12b8e1b5d0f5cd7cd3": {
     "model_module": "@jupyter-widgets/base",
     "model_module_version": "1.2.0",
     "model_name": "LayoutModel",
     "state": {
      "_model_module": "@jupyter-widgets/base",
      "_model_module_version": "1.2.0",
      "_model_name": "LayoutModel",
      "_view_count": null,
      "_view_module": "@jupyter-widgets/base",
      "_view_module_version": "1.2.0",
      "_view_name": "LayoutView",
      "align_content": null,
      "align_items": null,
      "align_self": null,
      "border": null,
      "bottom": null,
      "display": null,
      "flex": null,
      "flex_flow": null,
      "grid_area": null,
      "grid_auto_columns": null,
      "grid_auto_flow": null,
      "grid_auto_rows": null,
      "grid_column": null,
      "grid_gap": null,
      "grid_row": null,
      "grid_template_areas": null,
      "grid_template_columns": null,
      "grid_template_rows": null,
      "height": null,
      "justify_content": null,
      "justify_items": null,
      "left": null,
      "margin": null,
      "max_height": null,
      "max_width": null,
      "min_height": null,
      "min_width": null,
      "object_fit": null,
      "object_position": null,
      "order": null,
      "overflow": null,
      "overflow_x": null,
      "overflow_y": null,
      "padding": null,
      "right": null,
      "top": null,
      "visibility": null,
      "width": null
     }
    },
    "a02817f847e54bb3b02919151a638c02": {
     "model_module": "@jupyter-widgets/base",
     "model_module_version": "1.2.0",
     "model_name": "LayoutModel",
     "state": {
      "_model_module": "@jupyter-widgets/base",
      "_model_module_version": "1.2.0",
      "_model_name": "LayoutModel",
      "_view_count": null,
      "_view_module": "@jupyter-widgets/base",
      "_view_module_version": "1.2.0",
      "_view_name": "LayoutView",
      "align_content": null,
      "align_items": null,
      "align_self": null,
      "border": null,
      "bottom": null,
      "display": null,
      "flex": null,
      "flex_flow": null,
      "grid_area": null,
      "grid_auto_columns": null,
      "grid_auto_flow": null,
      "grid_auto_rows": null,
      "grid_column": null,
      "grid_gap": null,
      "grid_row": null,
      "grid_template_areas": null,
      "grid_template_columns": null,
      "grid_template_rows": null,
      "height": null,
      "justify_content": null,
      "justify_items": null,
      "left": null,
      "margin": null,
      "max_height": null,
      "max_width": null,
      "min_height": null,
      "min_width": null,
      "object_fit": null,
      "object_position": null,
      "order": null,
      "overflow": null,
      "overflow_x": null,
      "overflow_y": null,
      "padding": null,
      "right": null,
      "top": null,
      "visibility": null,
      "width": null
     }
    },
    "a2a73cda70a84f9293c06cbbe5d33de1": {
     "model_module": "@jupyter-widgets/base",
     "model_module_version": "1.2.0",
     "model_name": "LayoutModel",
     "state": {
      "_model_module": "@jupyter-widgets/base",
      "_model_module_version": "1.2.0",
      "_model_name": "LayoutModel",
      "_view_count": null,
      "_view_module": "@jupyter-widgets/base",
      "_view_module_version": "1.2.0",
      "_view_name": "LayoutView",
      "align_content": null,
      "align_items": null,
      "align_self": null,
      "border": null,
      "bottom": null,
      "display": null,
      "flex": null,
      "flex_flow": null,
      "grid_area": null,
      "grid_auto_columns": null,
      "grid_auto_flow": null,
      "grid_auto_rows": null,
      "grid_column": null,
      "grid_gap": null,
      "grid_row": null,
      "grid_template_areas": null,
      "grid_template_columns": null,
      "grid_template_rows": null,
      "height": null,
      "justify_content": null,
      "justify_items": null,
      "left": null,
      "margin": null,
      "max_height": null,
      "max_width": null,
      "min_height": null,
      "min_width": null,
      "object_fit": null,
      "object_position": null,
      "order": null,
      "overflow": null,
      "overflow_x": null,
      "overflow_y": null,
      "padding": null,
      "right": null,
      "top": null,
      "visibility": null,
      "width": null
     }
    },
    "a7c807a7787b4334b510e4188c3215ae": {
     "model_module": "@jupyter-widgets/controls",
     "model_module_version": "1.5.0",
     "model_name": "DescriptionStyleModel",
     "state": {
      "_model_module": "@jupyter-widgets/controls",
      "_model_module_version": "1.5.0",
      "_model_name": "DescriptionStyleModel",
      "_view_count": null,
      "_view_module": "@jupyter-widgets/base",
      "_view_module_version": "1.2.0",
      "_view_name": "StyleView",
      "description_width": ""
     }
    },
    "b6cd114931654d2d9f072aca4f15ee8b": {
     "model_module": "@jupyter-widgets/base",
     "model_module_version": "1.2.0",
     "model_name": "LayoutModel",
     "state": {
      "_model_module": "@jupyter-widgets/base",
      "_model_module_version": "1.2.0",
      "_model_name": "LayoutModel",
      "_view_count": null,
      "_view_module": "@jupyter-widgets/base",
      "_view_module_version": "1.2.0",
      "_view_name": "LayoutView",
      "align_content": null,
      "align_items": null,
      "align_self": null,
      "border": null,
      "bottom": null,
      "display": null,
      "flex": null,
      "flex_flow": null,
      "grid_area": null,
      "grid_auto_columns": null,
      "grid_auto_flow": null,
      "grid_auto_rows": null,
      "grid_column": null,
      "grid_gap": null,
      "grid_row": null,
      "grid_template_areas": null,
      "grid_template_columns": null,
      "grid_template_rows": null,
      "height": null,
      "justify_content": null,
      "justify_items": null,
      "left": null,
      "margin": null,
      "max_height": null,
      "max_width": null,
      "min_height": null,
      "min_width": null,
      "object_fit": null,
      "object_position": null,
      "order": null,
      "overflow": null,
      "overflow_x": null,
      "overflow_y": null,
      "padding": null,
      "right": null,
      "top": null,
      "visibility": null,
      "width": null
     }
    },
    "b8cc84bd599b4e9ebe16bdd7eb282791": {
     "model_module": "@jupyter-widgets/controls",
     "model_module_version": "1.5.0",
     "model_name": "HTMLModel",
     "state": {
      "_dom_classes": [],
      "_model_module": "@jupyter-widgets/controls",
      "_model_module_version": "1.5.0",
      "_model_name": "HTMLModel",
      "_view_count": null,
      "_view_module": "@jupyter-widgets/controls",
      "_view_module_version": "1.5.0",
      "_view_name": "HTMLView",
      "description": "",
      "description_tooltip": null,
      "layout": "IPY_MODEL_29455cee15924eb8b06325ba372ae24c",
      "placeholder": "​",
      "style": "IPY_MODEL_77266312554c4edaa59681f51d776425",
      "value": "Render HTML: 100%"
     }
    },
    "e0e9831a63ed474aba2f8cde44294909": {
     "model_module": "@jupyter-widgets/controls",
     "model_module_version": "1.5.0",
     "model_name": "DescriptionStyleModel",
     "state": {
      "_model_module": "@jupyter-widgets/controls",
      "_model_module_version": "1.5.0",
      "_model_name": "DescriptionStyleModel",
      "_view_count": null,
      "_view_module": "@jupyter-widgets/base",
      "_view_module_version": "1.2.0",
      "_view_name": "StyleView",
      "description_width": ""
     }
    },
    "e7cdb002799848da87a3610bedeae869": {
     "model_module": "@jupyter-widgets/controls",
     "model_module_version": "1.5.0",
     "model_name": "FloatProgressModel",
     "state": {
      "_dom_classes": [],
      "_model_module": "@jupyter-widgets/controls",
      "_model_module_version": "1.5.0",
      "_model_name": "FloatProgressModel",
      "_view_count": null,
      "_view_module": "@jupyter-widgets/controls",
      "_view_module_version": "1.5.0",
      "_view_name": "ProgressView",
      "bar_style": "success",
      "description": "",
      "description_tooltip": null,
      "layout": "IPY_MODEL_a0262bdab3274a12b8e1b5d0f5cd7cd3",
      "max": 5,
      "min": 0,
      "orientation": "horizontal",
      "style": "IPY_MODEL_f439f6c3bb004124853a022d159b3b85",
      "value": 5
     }
    },
    "f439f6c3bb004124853a022d159b3b85": {
     "model_module": "@jupyter-widgets/controls",
     "model_module_version": "1.5.0",
     "model_name": "ProgressStyleModel",
     "state": {
      "_model_module": "@jupyter-widgets/controls",
      "_model_module_version": "1.5.0",
      "_model_name": "ProgressStyleModel",
      "_view_count": null,
      "_view_module": "@jupyter-widgets/base",
      "_view_module_version": "1.2.0",
      "_view_name": "StyleView",
      "bar_color": null,
      "description_width": ""
     }
    }
   }
  }
 },
 "nbformat": 4,
 "nbformat_minor": 1
}
